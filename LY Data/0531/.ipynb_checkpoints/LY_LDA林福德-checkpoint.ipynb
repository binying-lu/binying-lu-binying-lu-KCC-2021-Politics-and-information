{
 "cells": [
  {
   "cell_type": "code",
   "execution_count": 1,
   "metadata": {},
   "outputs": [
    {
     "name": "stderr",
     "output_type": "stream",
     "text": [
      "/Users/Binying/opt/anaconda3/lib/python3.8/site-packages/tensorflow/python/keras/layers/legacy_rnn/rnn_cell_impl.py:909: UserWarning: `tf.nn.rnn_cell.LSTMCell` is deprecated and will be removed in a future version. This class is equivalent as `tf.keras.layers.LSTMCell`, and will be replaced by that in Tensorflow 2.0.\n",
      "  warnings.warn(\"`tf.nn.rnn_cell.LSTMCell` is deprecated and will be \"\n",
      "/Users/Binying/opt/anaconda3/lib/python3.8/site-packages/tensorflow/python/keras/engine/base_layer_v1.py:1700: UserWarning: `layer.add_variable` is deprecated and will be removed in a future version. Please use `layer.add_weight` method instead.\n",
      "  warnings.warn('`layer.add_variable` is deprecated and '\n"
     ]
    }
   ],
   "source": [
    "# -*- coding: utf-8 -*-\n",
    "\"\"\"\n",
    "Created on May 31 2021\n",
    "@author: Te-Yu,Lu\n",
    "\"\"\"\n",
    "\n",
    "from ckiptagger import data_utils, construct_dictionary, WS, POS, NER\n",
    "import gc\n",
    "import matplotlib.pyplot as plt\n",
    "import tensorflow as tf\n",
    "import pandas as pd\n",
    "import numpy as np\n",
    "from collections import Counter\n",
    "from tqdm import tqdm\n",
    "\n",
    "\n",
    "pd.set_option(\"display.max_rows\", 1000)    #設定最大能顯示1000rows\n",
    "pd.set_option(\"display.max_columns\", 1000)\n",
    "\n",
    "# import keras\n",
    "\n",
    "# 載入 ckiptagger 自訂詞典\n",
    "User_Dict = {}\n",
    "with open(\"KccLy2Dict2021.txt\",\"r\", encoding='utf-8-sig') as UDicts:\n",
    "    for udic in UDicts:\n",
    "        udWord = udic.strip().split(\" \")\n",
    "        if len(udWord) > 1:\n",
    "            User_Dict[udWord[0]] = udWord[1]\n",
    "        else:\n",
    "            User_Dict[udWord[0]] = 100    # 未給定權重者一律賦予預設值 150                \n",
    "dictionary = construct_dictionary(User_Dict)\n",
    "\n",
    "# 載入模型\n",
    "ws = WS(\"../data\")\n",
    "# pos = POS(\"./data\")\n",
    "# ner = NER(\"./data\")\n",
    "\n",
    "# 載入 StopWord\n",
    "stopword_list = []\n",
    "with open(\"../dict/KccStopWord2020.txt\",\"r\", encoding='utf-8-sig') as stopwords:\n",
    "    for stopword in stopwords:\n",
    "        stopword_list.append(stopword.strip())"
   ]
  },
  {
   "cell_type": "code",
   "execution_count": 2,
   "metadata": {},
   "outputs": [
    {
     "data": {
      "text/html": [
       "<div>\n",
       "<style scoped>\n",
       "    .dataframe tbody tr th:only-of-type {\n",
       "        vertical-align: middle;\n",
       "    }\n",
       "\n",
       "    .dataframe tbody tr th {\n",
       "        vertical-align: top;\n",
       "    }\n",
       "\n",
       "    .dataframe thead th {\n",
       "        text-align: right;\n",
       "    }\n",
       "</style>\n",
       "<table border=\"1\" class=\"dataframe\">\n",
       "  <thead>\n",
       "    <tr style=\"text-align: right;\">\n",
       "      <th></th>\n",
       "      <th>Unnamed: 0</th>\n",
       "      <th>Session</th>\n",
       "      <th>會期</th>\n",
       "      <th>Date</th>\n",
       "      <th>Meeting_Time</th>\n",
       "      <th>Committe</th>\n",
       "      <th>Meet_name</th>\n",
       "      <th>NNN</th>\n",
       "      <th>Name</th>\n",
       "      <th>Location</th>\n",
       "      <th>S_time</th>\n",
       "      <th>E_time</th>\n",
       "      <th>SPEECH_URL</th>\n",
       "      <th>During</th>\n",
       "      <th>VOD_URL</th>\n",
       "      <th>Speech</th>\n",
       "    </tr>\n",
       "  </thead>\n",
       "  <tbody>\n",
       "    <tr>\n",
       "      <th>154</th>\n",
       "      <td>154</td>\n",
       "      <td>8</td>\n",
       "      <td>6</td>\n",
       "      <td>9/22/2014</td>\n",
       "      <td>9:00</td>\n",
       "      <td>財政委員會</td>\n",
       "      <td>立法院第8屆第6會期財政委員會第2次全體委員會議</td>\n",
       "      <td>一、討論中華民國104年度中央政府總預算案（含附屬單位預算及綜計表－營業及非營業部分）審查日...</td>\n",
       "      <td>林德福</td>\n",
       "      <td>新北市第9選舉區</td>\n",
       "      <td>9:54:59</td>\n",
       "      <td>10:06:22</td>\n",
       "      <td>http://ivod.ly.gov.tw/Demand/Speech/76095</td>\n",
       "      <td>0:11:23</td>\n",
       "      <td>http://ivod.ly.gov.tw/Play/VOD/76095/300K</td>\n",
       "      <td>﻿林委員德福：主席、各位列席官員、各位同仁。本席要請教曾主委，主計總處預估臺灣今年的經濟\\n...</td>\n",
       "    </tr>\n",
       "  </tbody>\n",
       "</table>\n",
       "</div>"
      ],
      "text/plain": [
       "     Unnamed: 0  Session  會期       Date Meeting_Time Committe  \\\n",
       "154         154        8   6  9/22/2014         9:00    財政委員會   \n",
       "\n",
       "                    Meet_name  \\\n",
       "154  立法院第8屆第6會期財政委員會第2次全體委員會議   \n",
       "\n",
       "                                                   NNN Name  Location  \\\n",
       "154  一、討論中華民國104年度中央政府總預算案（含附屬單位預算及綜計表－營業及非營業部分）審查日...  林德福  新北市第9選舉區   \n",
       "\n",
       "      S_time    E_time                                 SPEECH_URL   During  \\\n",
       "154  9:54:59  10:06:22  http://ivod.ly.gov.tw/Demand/Speech/76095  0:11:23   \n",
       "\n",
       "                                       VOD_URL  \\\n",
       "154  http://ivod.ly.gov.tw/Play/VOD/76095/300K   \n",
       "\n",
       "                                                Speech  \n",
       "154  ﻿林委員德福：主席、各位列席官員、各位同仁。本席要請教曾主委，主計總處預估臺灣今年的經濟\\n...  "
      ]
     },
     "execution_count": 2,
     "metadata": {},
     "output_type": "execute_result"
    }
   ],
   "source": [
    "word = pd.read_csv('委員逐字稿.csv',encoding='utf-8') #匯資料\n",
    "lin = word[word.Name == \"林德福\"]\n",
    "lin.head(1)"
   ]
  },
  {
   "cell_type": "code",
   "execution_count": 3,
   "metadata": {},
   "outputs": [
    {
     "data": {
      "text/html": [
       "<div>\n",
       "<style scoped>\n",
       "    .dataframe tbody tr th:only-of-type {\n",
       "        vertical-align: middle;\n",
       "    }\n",
       "\n",
       "    .dataframe tbody tr th {\n",
       "        vertical-align: top;\n",
       "    }\n",
       "\n",
       "    .dataframe thead th {\n",
       "        text-align: right;\n",
       "    }\n",
       "</style>\n",
       "<table border=\"1\" class=\"dataframe\">\n",
       "  <thead>\n",
       "    <tr style=\"text-align: right;\">\n",
       "      <th></th>\n",
       "      <th>Speech</th>\n",
       "    </tr>\n",
       "  </thead>\n",
       "  <tbody>\n",
       "    <tr>\n",
       "      <th>154</th>\n",
       "      <td>﻿林委員德福：主席、各位列席官員、各位同仁。本席要請教曾主委，主計總處預估臺灣今年的經濟\\n...</td>\n",
       "    </tr>\n",
       "    <tr>\n",
       "      <th>263</th>\n",
       "      <td>﻿林委員德福：主席、各位列席官員、各位同仁。彭總裁於 6 月下旬表示，今（103）年下半年整...</td>\n",
       "    </tr>\n",
       "  </tbody>\n",
       "</table>\n",
       "</div>"
      ],
      "text/plain": [
       "                                                Speech\n",
       "154  ﻿林委員德福：主席、各位列席官員、各位同仁。本席要請教曾主委，主計總處預估臺灣今年的經濟\\n...\n",
       "263  ﻿林委員德福：主席、各位列席官員、各位同仁。彭總裁於 6 月下旬表示，今（103）年下半年整..."
      ]
     },
     "execution_count": 3,
     "metadata": {},
     "output_type": "execute_result"
    }
   ],
   "source": [
    "title_lin = lin[['Speech']] #提出會用到的欄位\n",
    "title_lin.head(2)"
   ]
  },
  {
   "cell_type": "code",
   "execution_count": 4,
   "metadata": {},
   "outputs": [],
   "source": [
    "lin_list= list(title_lin['Speech'])\n",
    "\n",
    "lin_str =(','.join('%s' %id for id in lin_list)) \n",
    "#print(lin_str)"
   ]
  },
  {
   "cell_type": "code",
   "execution_count": null,
   "metadata": {},
   "outputs": [],
   "source": [
    "# 開始斷詞\n",
    "# sentence_segmentation = True,  => To consider delimiters\n",
    "# segment_delimiter_set = {\",\", \"。\", \":\", \"?\", \"!\", \";\"}), # This is the defualt set of delimiters\n",
    "# recommend_dictionary = dictionary1, # words in this dictionary are encouraged\n",
    "# coerce_dictionary = dictionary2, # words in this dictionary are forced\n",
    "strCut = ws([lin_str], sentence_segmentation=True,\n",
    "                 segment_delimiter_set = {'\"',\"\\r\\n\",\"，\",\"「\",\"」\",\",\",\"？\",'\\n', \"。\", \":\", \"?\", \"!\", \";\", \"、\"},\n",
    "                 coerce_dictionary = dictionary)\n",
    "\n",
    "\n",
    "print(\"------------CKIPTagger Word Segment ws(str,....) + 刪除標點及停用字 ---------------\")\n",
    "stayed_lst= []\n",
    "for word in strCut[0]:\n",
    "     # 刪除停用字\n",
    "    if word not in stopword_list:\n",
    "        stayed_lst.append(word)\n",
    "\n",
    "print(\" / \".join(stayed_lst))"
   ]
  },
  {
   "cell_type": "code",
   "execution_count": null,
   "metadata": {},
   "outputs": [],
   "source": [
    "# -*- coding: utf-8 -*-\n",
    "\"\"\"\n",
    "Input: \"KCC Data/CkipNewsCisTest-KccDict2020.txt\"\n",
    "Output: \"KCC Data/NewsCisTest-KccDict2020-LDA-TopicNum10.txt\"\n",
    "#CkipNewsCisTest-KccDict2020.txt\n",
    "\n",
    "@author: Johnson\n",
    "\"\"\"\n",
    "# When numpy version = 1.19.2 => gensim version should downgrade to 3.8.3\n",
    "from gensim import corpora, models, utils\n",
    "from gensim.models import LdaModel, CoherenceModel"
   ]
  }
 ],
 "metadata": {
  "kernelspec": {
   "display_name": "Python 3",
   "language": "python",
   "name": "python3"
  },
  "language_info": {
   "codemirror_mode": {
    "name": "ipython",
    "version": 3
   },
   "file_extension": ".py",
   "mimetype": "text/x-python",
   "name": "python",
   "nbconvert_exporter": "python",
   "pygments_lexer": "ipython3",
   "version": "3.8.5"
  }
 },
 "nbformat": 4,
 "nbformat_minor": 4
}
